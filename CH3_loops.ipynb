{
 "cells": [
  {
   "cell_type": "code",
   "execution_count": 3,
   "metadata": {},
   "outputs": [
    {
     "name": "stdout",
     "output_type": "stream",
     "text": [
      "I like Meats pizza\n",
      "I like Sausage pizza\n",
      "I like Cheese pizza\n",
      "I LOVE PIZZA\n"
     ]
    }
   ],
   "source": [
    "#4-1 Pizza loop\n",
    "pizzalist = ['Meats','Sausage','Cheese']\n",
    "\n",
    "for pizza in pizzalist: \n",
    "    print(\"I like\", pizza, \"pizza\")\n",
    "\n",
    "print(\"I LOVE PIZZA\")"
   ]
  },
  {
   "cell_type": "code",
   "execution_count": 2,
   "metadata": {},
   "outputs": [
    {
     "name": "stdout",
     "output_type": "stream",
     "text": [
      "Cats are cool\n",
      "Dogs are cool\n",
      "Turtles are cool\n",
      "All pets are cool\n"
     ]
    }
   ],
   "source": [
    "#4-2 pet loop\n",
    "petlist = ['Cats','Dogs','Turtles']\n",
    "\n",
    "for pet in petlist:\n",
    "    print(pet, \"are cool\")\n",
    "\n",
    "print(\"All pets are cool\")\n"
   ]
  },
  {
   "cell_type": "code",
   "execution_count": null,
   "metadata": {},
   "outputs": [
    {
     "name": "stdout",
     "output_type": "stream",
     "text": [
      "[1, 2, 3, 4, 5, 6, 7, 8, 9, 10, 11, 12, 13, 14, 15, 16, 17, 18, 19, 20]\n",
      "min: 1 max: 20 sum: 210\n",
      "[3, 6, 9, 12, 15, 18, 21, 24, 27, 30]\n",
      "1\n",
      "8\n",
      "27\n",
      "64\n",
      "125\n",
      "216\n",
      "343\n",
      "512\n",
      "729\n",
      "1000\n",
      "[1, 8, 27, 64, 125, 216, 343, 512, 729, 1000]\n"
     ]
    }
   ],
   "source": [
    "#4-3 to 4-10\n",
    "\n",
    "# 4-3: Counting to 20\n",
    "myCount = []\n",
    "for number in range(1,21):\n",
    "    myCount.append(number)\n",
    "\n",
    "print(myCount)\n",
    "\n",
    "#4-4: min, max and sum\n",
    "minCount = min(myCount)\n",
    "maxCount = max(myCount)\n",
    "sumCount = sum(myCount)\n",
    "\n",
    "print(\"min:\", minCount, \"max:\", maxCount, \"sum:\", sumCount)\n",
    "\n",
    "#4-7: multiple of three\n",
    "threeX =[]\n",
    "for num in range(3, 31, 3): \n",
    "    threeX.append(num)\n",
    "\n",
    "print(threeX)\n",
    "\n",
    "cubeNum = []\n",
    "for num in range(1, 11): \n",
    "    cubeNum.append(num**3)\n",
    "    print(cubeNum[-1])\n",
    "\n",
    "#4-8 List comprehension: Above code can be condensed to: \n",
    "lcCubeNum = [num**3 for num in range(1,11) ]\n",
    "print(lcCubeNum)"
   ]
  },
  {
   "cell_type": "code",
   "execution_count": null,
   "metadata": {},
   "outputs": [],
   "source": [
    "# Slices\n"
   ]
  }
 ],
 "metadata": {
  "kernelspec": {
   "display_name": "pipConda",
   "language": "python",
   "name": "python3"
  },
  "language_info": {
   "codemirror_mode": {
    "name": "ipython",
    "version": 3
   },
   "file_extension": ".py",
   "mimetype": "text/x-python",
   "name": "python",
   "nbconvert_exporter": "python",
   "pygments_lexer": "ipython3",
   "version": "3.9.7"
  }
 },
 "nbformat": 4,
 "nbformat_minor": 2
}
