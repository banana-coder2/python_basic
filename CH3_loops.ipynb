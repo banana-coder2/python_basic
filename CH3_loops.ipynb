{
 "cells": [
  {
   "cell_type": "code",
   "execution_count": 3,
   "metadata": {},
   "outputs": [
    {
     "name": "stdout",
     "output_type": "stream",
     "text": [
      "I like Meats pizza\n",
      "I like Sausage pizza\n",
      "I like Cheese pizza\n",
      "I LOVE PIZZA\n"
     ]
    }
   ],
   "source": [
    "#4-1 Pizza loop\n",
    "pizzalist = ['Meats','Sausage','Cheese']\n",
    "\n",
    "for pizza in pizzalist: \n",
    "    print(\"I like\", pizza, \"pizza\")\n",
    "\n",
    "print(\"I LOVE PIZZA\")"
   ]
  },
  {
   "cell_type": "code",
   "execution_count": null,
   "metadata": {},
   "outputs": [],
   "source": [
    "#4-2 Animals"
   ]
  }
 ],
 "metadata": {
  "kernelspec": {
   "display_name": "pipConda",
   "language": "python",
   "name": "python3"
  },
  "language_info": {
   "codemirror_mode": {
    "name": "ipython",
    "version": 3
   },
   "file_extension": ".py",
   "mimetype": "text/x-python",
   "name": "python",
   "nbconvert_exporter": "python",
   "pygments_lexer": "ipython3",
   "version": "3.9.7"
  }
 },
 "nbformat": 4,
 "nbformat_minor": 2
}
