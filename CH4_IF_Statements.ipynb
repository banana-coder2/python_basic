{
 "cells": [
  {
   "cell_type": "markdown",
   "metadata": {},
   "source": []
  },
  {
   "cell_type": "code",
   "execution_count": 9,
   "metadata": {},
   "outputs": [
    {
     "name": "stdout",
     "output_type": "stream",
     "text": [
      "Is this car a subaru?\n",
      "True\n"
     ]
    }
   ],
   "source": [
    "#5-1 Use condition for car message\n",
    "car = \"subaru\"\n",
    "print(\"Is this car a subaru?\")\n",
    "if car == \"subaru\":\n",
    "    print(car == \"subaru\")\n",
    "\n",
    "if car == \"Volvo\":\n",
    "    print(car == \"Volvo\")\n"
   ]
  },
  {
   "cell_type": "code",
   "execution_count": null,
   "metadata": {},
   "outputs": [
    {
     "name": "stdout",
     "output_type": "stream",
     "text": [
      "+ 5 pts\n"
     ]
    }
   ],
   "source": [
    "#elif (else) - Check condition in order until one condition is true. Only return one output for condition. \n",
    "# 5-3 Alien colors\n",
    "alien_color =('green', 'blue', 'Orange')\n",
    "\n",
    "if 'green' in alien_color: \n",
    "    print(\"+ 5 pts\")\n",
    "    \n",
    "elif 'orange' in alien_color:\n",
    "    print(\"No pts\")\n",
    "\n",
    "elif 'blue' in alien_color: \n",
    "    print(\"Heal\")\n",
    "\n",
    "else: \n",
    "    print(\"No lights\")"
   ]
  },
  {
   "cell_type": "code",
   "execution_count": null,
   "metadata": {},
   "outputs": [
    {
     "name": "stdout",
     "output_type": "stream",
     "text": [
      "+ 5 pts\n",
      "No pts\n",
      "Heal\n"
     ]
    }
   ],
   "source": [
    "# Check all condition with output\n",
    "if 'green' in alien_color: \n",
    "    print(\"+ 5 pts\")\n",
    "    \n",
    "if 'Orange' in alien_color:\n",
    "    print(\"No pts\")\n",
    "\n",
    "if 'blue' in alien_color: \n",
    "    print(\"Heal\")\n",
    "\n"
   ]
  }
 ],
 "metadata": {
  "kernelspec": {
   "display_name": "pipConda",
   "language": "python",
   "name": "python3"
  },
  "language_info": {
   "codemirror_mode": {
    "name": "ipython",
    "version": 3
   },
   "file_extension": ".py",
   "mimetype": "text/x-python",
   "name": "python",
   "nbconvert_exporter": "python",
   "pygments_lexer": "ipython3",
   "version": "3.9.7"
  }
 },
 "nbformat": 4,
 "nbformat_minor": 2
}
